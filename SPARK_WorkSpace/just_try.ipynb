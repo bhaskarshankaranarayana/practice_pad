{
 "cells": [
  {
   "cell_type": "code",
   "execution_count": 1,
   "metadata": {},
   "outputs": [],
   "source": [
    "import findspark\n",
    "findspark.init()"
   ]
  },
  {
   "cell_type": "code",
   "execution_count": 10,
   "metadata": {},
   "outputs": [],
   "source": [
    "from pyspark.sql import SparkSession\n",
    "import pandas as pd\n",
    "import numpy as np\n"
   ]
  },
  {
   "cell_type": "code",
   "execution_count": 11,
   "metadata": {},
   "outputs": [],
   "source": [
    "if __name__ == '__main__':\n",
    "    spark = SparkSession.builder.appName(\"just_try\").getOrCreate()"
   ]
  },
  {
   "cell_type": "code",
   "execution_count": 14,
   "metadata": {},
   "outputs": [
    {
     "name": "stdout",
     "output_type": "stream",
     "text": [
      "+----+-----------------+--------------------+----------------+---------+\n",
      "|TECH|          MO_NAME|      PARAMETER_NAME|SECOND PARAMETER|GPL VALUE|\n",
      "+----+-----------------+--------------------+----------------+---------+\n",
      "|  4G| AdmissionControl|admNrRbDifferenti...|             nan|      750|\n",
      "|  4G| AdmissionControl|admNrRrcDifferent...|             nan|      750|\n",
      "|  4G| AdmissionControl|arpBasedPreEmptio...|             nan|        0|\n",
      "|  4G| AdmissionControl|dlAdmDifferentiat...|             nan|      750|\n",
      "|  4G| AdmissionControl|ulAdmDifferentiat...|             nan|      750|\n",
      "|  4G| AdmissionControl|    ulAdmOverloadThr|             nan|      950|\n",
      "|  4G| AdmissionControl|  ulTransNwBandwidth|             nan|     1000|\n",
      "|  4G|      AnrFunction|cellRelHoAttRateT...|             nan|       15|\n",
      "|  4G|      AnrFunction|maxNoPciReportsEvent|             nan|       30|\n",
      "|  4G|      AnrFunction|plmnWhiteListEnabled|             nan|    FALSE|\n",
      "|  4G|      AnrFunction|probCellDetectLow...|             nan|        4|\n",
      "|  4G|      AnrFunction|probCellDetectMed...|             nan|       50|\n",
      "|  4G|      AnrFunction|probCellDetectMed...|             nan|        2|\n",
      "|  4G|      AnrFunction|problematicCellPo...|             nan|        1|\n",
      "|  4G|      AnrFunction|     removeNcellTime|             nan|        3|\n",
      "|  4G|      AnrFunction|      removeNenbTime|             nan|        3|\n",
      "|  4G|      AnrFunction|      removeNrelTime|             nan|        3|\n",
      "|  4G|AnrFunctionEUtran|   anrInterFreqState|             nan|        1|\n",
      "|  4G|AnrFunctionEUtran|   anrIntraFreqState|             nan|        1|\n",
      "|  4G|AnrFunctionEUtran|anrUesEUtraIntraFMax|             nan|        0|\n",
      "+----+-----------------+--------------------+----------------+---------+\n",
      "only showing top 20 rows\n",
      "\n"
     ]
    }
   ],
   "source": [
    "data_set = pd.read_excel(r\"C:\\Users\\eefhiio\\Desktop\\JK_Gpat\\JK_ericsson_4G_Optimise-RAN.xlsx\",inferSchema='true')\n",
    "data_set[['GPL VALUE','SECOND PARAMETER']] = data_set[['GPL VALUE','SECOND PARAMETER']].astype(str)\n",
    "spark_df = spark.createDataFrame(data_set)\n",
    "spark_df.show()"
   ]
  },
  {
   "cell_type": "code",
   "execution_count": 17,
   "metadata": {},
   "outputs": [
    {
     "name": "stdout",
     "output_type": "stream",
     "text": [
      "root\n",
      " |-- TECH: string (nullable = true)\n",
      " |-- MO_NAME: string (nullable = true)\n",
      " |-- PARAMETER_NAME: string (nullable = true)\n",
      " |-- SECOND PARAMETER: string (nullable = true)\n",
      " |-- GPL VALUE: string (nullable = true)\n",
      "\n"
     ]
    }
   ],
   "source": [
    "type(spark_df)\n",
    "spark_df.printSchema()"
   ]
  },
  {
   "cell_type": "code",
   "execution_count": 18,
   "metadata": {},
   "outputs": [
    {
     "name": "stdout",
     "output_type": "stream",
     "text": [
      "+----+------------+--------------+----------------+---------+\n",
      "|TECH|     MO_NAME|PARAMETER_NAME|SECOND PARAMETER|GPL VALUE|\n",
      "+----+------------+--------------+----------------+---------+\n",
      "|  4G|FeatureState|  serviceState|keyId:CXC4011969|        1|\n",
      "|  4G|FeatureState|  serviceState|keyId:CXC4011427|        1|\n",
      "|  4G|FeatureState|  serviceState|keyId:CXC4011667|        1|\n",
      "|  4G|FeatureState|  serviceState|keyId:CXC4011317|        1|\n",
      "|  4G|FeatureState|  serviceState|keyId:CXC4011946|        1|\n",
      "|  4G|FeatureState|  serviceState|keyId:CXC4012018|        1|\n",
      "|  4G|FeatureState|  serviceState|keyId:CXC4011814|        1|\n",
      "|  4G|FeatureState|  serviceState|keyId:CXC4011967|        1|\n",
      "|  4G|FeatureState|  serviceState|keyId:CXC4010320|        1|\n",
      "|  4G|FeatureState|  serviceState|keyId:CXC4010620|        1|\n",
      "|  4G|FeatureState|  serviceState|keyId:CXC4011422|        1|\n",
      "|  4G|FeatureState|  serviceState|keyId:CXC4011376|        1|\n",
      "|  4G|FeatureState|  serviceState|keyId:CXC4011246|        1|\n",
      "|  4G|FeatureState|  serviceState|keyId:CXC4011922|        1|\n",
      "|  4G|FeatureState|  serviceState|keyId:CXC4011666|        1|\n",
      "|  4G|FeatureState|  serviceState|keyId:CXC4011476|        1|\n",
      "|  4G|FeatureState|  serviceState|keyId:CXC4010841|        1|\n",
      "|  4G|FeatureState|  serviceState|keyId:CXC4012097|        1|\n",
      "|  4G|FeatureState|  serviceState|keyId:CXC4010974|        1|\n",
      "|  4G|FeatureState|  serviceState|keyId:CXC4011910|        1|\n",
      "+----+------------+--------------+----------------+---------+\n",
      "only showing top 20 rows\n",
      "\n"
     ]
    }
   ],
   "source": [
    "new_df = spark_df.where(spark_df.MO_NAME == 'FeatureState')\n",
    "new_df.show()"
   ]
  },
  {
   "cell_type": "code",
   "execution_count": 19,
   "metadata": {},
   "outputs": [
    {
     "name": "stdout",
     "output_type": "stream",
     "text": [
      "(1042, 5)\n"
     ]
    }
   ],
   "source": [
    "print((spark_df.count(), len(spark_df.columns)))"
   ]
  },
  {
   "cell_type": "code",
   "execution_count": 20,
   "metadata": {},
   "outputs": [
    {
     "name": "stdout",
     "output_type": "stream",
     "text": [
      "(125, 5)\n"
     ]
    }
   ],
   "source": [
    "print((new_df.count(), len(new_df.columns)))"
   ]
  },
  {
   "cell_type": "code",
   "execution_count": 21,
   "metadata": {},
   "outputs": [
    {
     "data": {
      "text/plain": [
       "917"
      ]
     },
     "execution_count": 21,
     "metadata": {},
     "output_type": "execute_result"
    }
   ],
   "source": [
    "fltr_df = spark_df.where(spark_df.MO_NAME != 'FeatureState')\n",
    "fltr_df.count()"
   ]
  },
  {
   "cell_type": "code",
   "execution_count": 31,
   "metadata": {},
   "outputs": [
    {
     "name": "stdout",
     "output_type": "stream",
     "text": [
      "+----+--------------------+--------------------+--------------------+--------------------+\n",
      "|TECH|             MO_NAME|      PARAMETER_NAME|    SECOND PARAMETER|           GPL VALUE|\n",
      "+----+--------------------+--------------------+--------------------+--------------------+\n",
      "|  4G|QciProfilePredefined|     absPrioOverride|*QciProfilePredef...|                   0|\n",
      "|  4G|QciProfilePredefined|                dscp|*QciProfilePredef...|                  26|\n",
      "|  4G|QciProfilePredefined|logicalChannelGro...|*QciProfilePredef...|*vsDataLogicalCha...|\n",
      "|  4G|QciProfilePredefined|qciSubscriptionQu...|*QciProfilePredef...|                 200|\n",
      "|  4G|QciProfilePredefined| schedulingAlgorithm|*QciProfilePredef...|                   3|\n",
      "+----+--------------------+--------------------+--------------------+--------------------+\n",
      "\n"
     ]
    }
   ],
   "source": [
    "fltr_df.filter(fltr_df['SECOND PARAMETER'].rlike(\"6-9\")).show()"
   ]
  },
  {
   "cell_type": "code",
   "execution_count": 29,
   "metadata": {},
   "outputs": [
    {
     "data": {
      "text/plain": [
       "287"
      ]
     },
     "execution_count": 29,
     "metadata": {},
     "output_type": "execute_result"
    }
   ],
   "source": [
    "s_df = fltr_df.where(fltr_df['SECOND PARAMETER'] != 'nan')\n",
    "s_df.count()"
   ]
  },
  {
   "cell_type": "code",
   "execution_count": null,
   "metadata": {},
   "outputs": [],
   "source": []
  }
 ],
 "metadata": {
  "kernelspec": {
   "display_name": "Python 3",
   "language": "python",
   "name": "python3"
  },
  "language_info": {
   "codemirror_mode": {
    "name": "ipython",
    "version": 3
   },
   "file_extension": ".py",
   "mimetype": "text/x-python",
   "name": "python",
   "nbconvert_exporter": "python",
   "pygments_lexer": "ipython3",
   "version": "3.7.4"
  }
 },
 "nbformat": 4,
 "nbformat_minor": 2
}
